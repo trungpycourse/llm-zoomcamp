{
 "cells": [
  {
   "cell_type": "markdown",
   "id": "ed697b58-247d-41e7-95f9-285628894737",
   "metadata": {},
   "source": [
    "## Q1. Running Mage\n",
    "\n",
    "Clone the same repo we used in the module and run mage:\n",
    "\n",
    "\n",
    "```bash\n",
    "git clone https://github.com/mage-ai/rag-project\n",
    "```\n",
    "\n",
    "Add the following libraries to the requirements document:\n",
    "\n",
    "```\n",
    "python-docx\n",
    "elasticsearch\n",
    "```\n",
    "\n",
    "Make sure you use the latest version of mage:\n",
    "\n",
    "```bash\n",
    "docker pull mageai/mageai:llm\n",
    "```\n",
    "\n",
    "Start it:\n",
    "\n",
    "```bash\n",
    "./scripts/start.sh\n",
    "```\n",
    "\n",
    "Now mage is running on [http://localhost:6789/](http://localhost:6789/)\n",
    "\n",
    "What's the version of mage? =>>> **v0.9.72**"
   ]
  },
  {
   "cell_type": "markdown",
   "id": "4918bfa5-e688-4d38-bc5c-a9d6b4e7c569",
   "metadata": {},
   "source": [
    "## Q2. Reading the documents\n",
    "\n",
    "Now we can ingest the documents. Create a custom code ingestion\n",
    "block \n",
    "\n",
    "Let's read the documents. We will use the same code we used\n",
    "for parsing FAQ: [parse-faq-llm.ipynb](parse-faq-llm.ipynb)\n",
    "\n",
    "\n",
    "Use the following document_id: 1qZjwHkvP0lXHiE4zdbWyUXSVfmVGzougDD6N37bat3E\n",
    "\n",
    "Which is the document ID of\n",
    "[LLM FAQ version 1](https://docs.google.com/document/d/1qZjwHkvP0lXHiE4zdbWyUXSVfmVGzougDD6N37bat3E/edit)\n",
    "\n",
    "Copy the code to the editor\n",
    "How many FAQ documents we processed?\n",
    "\n",
    "* **1**\n",
    "* 2\n",
    "* 3\n",
    "* 4"
   ]
  },
  {
   "cell_type": "markdown",
   "id": "d84b1a03-b6bb-4684-bbeb-3befb27230c4",
   "metadata": {},
   "source": [
    "## Q3. Chunking\n",
    "\n",
    "We don't really need to do any chuncking because our documents\n",
    "already have well-specified boundaries. So we just need\n",
    "to return the documents without any changes.\n",
    "\n",
    "So let's go to the transformation part and add a custom code\n",
    "chunking block:\n",
    "\n",
    "```python\n",
    "documents = []\n",
    "\n",
    "for doc in data['documents']:\n",
    "    doc['course'] = data['course']\n",
    "    # previously we used just \"id\" for document ID\n",
    "    doc['document_id'] = generate_document_id(doc)\n",
    "    documents.append(doc)\n",
    "\n",
    "print(len(documents))\n",
    "\n",
    "return documents\n",
    "```\n",
    "\n",
    "\n",
    "Where `data` is the input parameter to the transformer.\n",
    "\n",
    "And the `generate_document_id` is defined in the same way\n",
    "as in module 4:\n",
    "\n",
    "```python\n",
    "import hashlib\n",
    "\n",
    "def generate_document_id(doc):\n",
    "    combined = f\"{doc['course']}-{doc['question']}-{doc['text'][:10]}\"\n",
    "    hash_object = hashlib.md5(combined.encode())\n",
    "    hash_hex = hash_object.hexdigest()\n",
    "    document_id = hash_hex[:8]\n",
    "    return document_id\n",
    "```\n",
    "\n",
    "Note: if instead of a single dictionary you get a list, \n",
    "add a for loop:\n",
    "\n",
    "```python\n",
    "for course_dict in data:\n",
    "    ...\n",
    "```\n",
    "\n",
    "You can check the type of `data` with this code:\n",
    "\n",
    "```python\n",
    "print(type(data))\n",
    "```\n",
    "\n",
    "How many documents (chunks) do we have in the output?\n",
    "\n",
    "* 66\n",
    "* 76\n",
    "* **86**\n",
    "* 96"
   ]
  },
  {
   "cell_type": "code",
   "execution_count": null,
   "id": "592bf41a-a34b-4614-876c-df38486c8974",
   "metadata": {},
   "outputs": [],
   "source": []
  },
  {
   "cell_type": "markdown",
   "id": "ad3f2b1d-238c-4c1a-b49f-ce70a342581a",
   "metadata": {},
   "source": [
    "## Tokenization and embeddings\n",
    "\n",
    "We don't need any tokenization, so we skip it.\n",
    "\n",
    "Because currently it's required in mage, we can create \n",
    "a dummy code block:\n",
    "\n",
    "* Create a custom code block\n",
    "* Don't change it\n",
    "\n",
    "Because we will use text search, we also don't need embeddings,\n",
    "so skip it too.\n",
    "\n",
    "If you want to use sentence transformers - the ones from module\n",
    "3 - you don't need tokenization, but need embeddings\n",
    "(you don't need it for this homework)"
   ]
  },
  {
   "cell_type": "markdown",
   "id": "8e873c3b-ff09-4b5c-a043-a97af267ed63",
   "metadata": {},
   "source": [
    "## Q4. Export\n",
    "\n",
    "Now we're ready to index the data with elasticsearch. For that,\n",
    "we use the Export part of the pipeline\n",
    "\n",
    "* Go to the Export part\n",
    "* Select vector databases -> Elasticsearch\n",
    "* Open the code for editing\n",
    "\n",
    "Because we won't use vector search, but usual text search, we\n",
    "will need to adjust the code.\n",
    "\n",
    "First, let's change the line where we read the index name:\n",
    "\n",
    "```python\n",
    "index_name = kwargs.get('index_name', 'documents')\n",
    "``` \n",
    "\n",
    "To `index_name_prefix` - we will parametrize it with the day\n",
    "and time we run the pipeline\n",
    "\n",
    "```python\n",
    "from datetime import datetime\n",
    "\n",
    "index_name_prefix = kwargs.get('index_name', 'documents')\n",
    "current_time = datetime.now().strftime(\"%Y%m%d_%M%S\")\n",
    "index_name = f\"{index_name_prefix}_{current_time}\"\n",
    "print(\"index name:\", index_name)\n",
    "```\n",
    "\n",
    "\n",
    "We will need to save the name in a global variable, so it can be accessible in other code blocks\n",
    "\n",
    "```python\n",
    "from mage_ai.data_preparation.variable_manager import set_global_variable\n",
    "\n",
    "set_global_variable('YOUR_PIPELINE_NAME', 'index_name', index_name)\n",
    "```\n",
    "\n",
    "Where your pipeline name is the name of the pipeline, e.g.\n",
    "`transcendent_nexus` (replace the space with underscore `_`)\n",
    "\n",
    "\n",
    "\n",
    "Replace index settings with the settings we used previously:\n",
    "\n",
    "```python\n",
    "index_settings = {\n",
    "    \"settings\": {\n",
    "        \"number_of_shards\": number_of_shards,\n",
    "        \"number_of_replicas\": number_of_replicas\n",
    "    },\n",
    "    \"mappings\": {\n",
    "        \"properties\": {\n",
    "            \"text\": {\"type\": \"text\"},\n",
    "            \"section\": {\"type\": \"text\"},\n",
    "            \"question\": {\"type\": \"text\"},\n",
    "            \"course\": {\"type\": \"keyword\"},\n",
    "            \"document_id\": {\"type\": \"keyword\"}\n",
    "        }\n",
    "    }\n",
    "}\n",
    "```\n",
    "\n",
    "Remove the embeddings line:\n",
    "\n",
    "```python\n",
    "if isinstance(document[vector_column_name], np.ndarray):\n",
    "    document[vector_column_name] = document[vector_column_name].tolist()\n",
    "```\n",
    "\n",
    "At the end (outside of the indexing for loop), print the last document:\n",
    "\n",
    "```python\n",
    "print(document)\n",
    "```\n",
    "\n",
    "Now execute the block.\n",
    "\n",
    "What's the last document id?\n",
    "\n",
    "Also note the index name."
   ]
  },
  {
   "cell_type": "markdown",
   "id": "ee2d9282-9fb8-42d0-8649-ea98dec09289",
   "metadata": {},
   "source": [
    "a976d6e7"
   ]
  },
  {
   "cell_type": "markdown",
   "id": "d6bf4d97-524e-44a6-90ec-3def8bceb80e",
   "metadata": {},
   "source": [
    "documents_20240821_1429"
   ]
  },
  {
   "cell_type": "markdown",
   "id": "5d855720-52f1-4daf-b7c9-6a2e873e5493",
   "metadata": {},
   "source": [
    "## Q5. Testing the retrieval\n",
    "\n",
    "Now let's test the retrieval. Use mage or jupyter notebook to\n",
    "test it.\n",
    "\n",
    "Let's use the following query: \"When is the next cohort?\"\n",
    "\n",
    "What's the ID of the top matching result?\n"
   ]
  },
  {
   "cell_type": "code",
   "execution_count": 28,
   "id": "32806f63-f95d-4c10-b54e-d073ae7c12df",
   "metadata": {},
   "outputs": [
    {
     "name": "stdout",
     "output_type": "stream",
     "text": [
      "{'name': '9d927af2b981', 'cluster_name': 'docker-cluster', 'cluster_uuid': 'FXrpYm43ToywG95LVJKZhA', 'version': {'number': '8.5.0', 'build_flavor': 'default', 'build_type': 'docker', 'build_hash': 'c94b4700cda13820dad5aa74fae6db185ca5c304', 'build_date': '2022-10-24T16:54:16.433628434Z', 'build_snapshot': False, 'lucene_version': '9.4.1', 'minimum_wire_compatibility_version': '7.17.0', 'minimum_index_compatibility_version': '7.0.0'}, 'tagline': 'You Know, for Search'}\n"
     ]
    }
   ],
   "source": [
    "from elasticsearch import Elasticsearch\n",
    "\n",
    "# Replace with your actual Elasticsearch URL and authentication details\n",
    "es_client = Elasticsearch(\"http://localhost:9200\")\n",
    "\n",
    "# Verify connection\n",
    "es_info = es_client.info()\n",
    "print(es_info)"
   ]
  },
  {
   "cell_type": "code",
   "execution_count": 29,
   "id": "0684f689-646e-4585-ab20-9b4a338282ee",
   "metadata": {},
   "outputs": [
    {
     "data": {
      "text/plain": [
       "['documents_20240820_4034',\n",
       " 'documents_20240821_2300',\n",
       " 'documents_20240820_0429',\n",
       " 'documents_20240820_2815',\n",
       " 'documents_20240820_2708',\n",
       " 'documents_20240820_2718',\n",
       " 'documents_20240821_5312',\n",
       " 'documents_20240821_2238',\n",
       " 'documents_20240820_0734',\n",
       " 'documents_20240821_1347',\n",
       " 'documents_20240820_2115',\n",
       " 'documents_20240821_3639',\n",
       " 'documents_20240820_2654',\n",
       " 'documents_20240821_1811',\n",
       " 'documents_20240820_4017',\n",
       " 'documents_20240821_1429']"
      ]
     },
     "execution_count": 29,
     "metadata": {},
     "output_type": "execute_result"
    }
   ],
   "source": [
    "indices = es_client.indices.get_alias(index=\"*\")\n",
    "list(indices)"
   ]
  },
  {
   "cell_type": "code",
   "execution_count": 30,
   "id": "8f2c70ed-b420-4ea9-8193-27d3fc2248a0",
   "metadata": {},
   "outputs": [
    {
     "name": "stdout",
     "output_type": "stream",
     "text": [
      "{'took': 16, 'timed_out': False, '_shards': {'total': 1, 'successful': 1, 'skipped': 0, 'failed': 0}, 'hits': {'total': {'value': 68, 'relation': 'eq'}, 'max_score': 25.331835, 'hits': [{'_index': 'documents_20240821_2300', '_id': '_UWHcpEBYxc-ogipsmHQ', '_score': 25.331835, '_source': {'text': 'Summer 2025 (via Alexey).'}}, {'_index': 'documents_20240821_2300', '_id': 'GUWHcpEBYxc-ogiptWJe', '_score': 12.660435, '_source': {'text': 'Cosine similarity is a measure used to calculate the similarity between two non-zero vectors, often used in text analysis to determine how similar two documents are based on their content. This metric computes the cosine of the angle between two vectors, which are typically word counts or TF-IDF values of the documents. The cosine similarity value ranges from -1 to 1, where 1 indicates that the vectors are identical, 0 indicates that the vectors are orthogonal (no similarity), and -1 represents completely opposite vectors.'}}, {'_index': 'documents_20240821_2300', '_id': 'NUWHcpEBYxc-ogipt2LZ', '_score': 12.212482, '_source': {'text': 'The error indicates that you have not changed all instances of “employee_handbook” to “homework” in your pipeline settings'}}, {'_index': 'documents_20240821_2300', '_id': 'NkWHcpEBYxc-ogipt2Ly', '_score': 11.193924, '_source': {'text': 'Make sure you open the correct table in line 3: dbtable = db.open_table(\"notion_pages___homework\")'}}, {'_index': 'documents_20240821_2300', '_id': '8UWHcpEBYxc-ogipsWHL', '_score': 10.403244, '_source': {'text': 'This course is being offered for the first time, and things will keep changing until a given module is ready, at which point it shall be announced. Working on the material/homework in advance will be at your own risk, as the final version could be different.'}}]}}\n",
      "ID: _UWHcpEBYxc-ogipsmHQ, Text: Summer 2025 (via Alexey).\n",
      "ID: GUWHcpEBYxc-ogiptWJe, Text: Cosine similarity is a measure used to calculate the similarity between two non-zero vectors, often used in text analysis to determine how similar two documents are based on their content. This metric computes the cosine of the angle between two vectors, which are typically word counts or TF-IDF values of the documents. The cosine similarity value ranges from -1 to 1, where 1 indicates that the vectors are identical, 0 indicates that the vectors are orthogonal (no similarity), and -1 represents completely opposite vectors.\n",
      "ID: NUWHcpEBYxc-ogipt2LZ, Text: The error indicates that you have not changed all instances of “employee_handbook” to “homework” in your pipeline settings\n",
      "ID: NkWHcpEBYxc-ogipt2Ly, Text: Make sure you open the correct table in line 3: dbtable = db.open_table(\"notion_pages___homework\")\n",
      "ID: 8UWHcpEBYxc-ogipsWHL, Text: This course is being offered for the first time, and things will keep changing until a given module is ready, at which point it shall be announced. Working on the material/homework in advance will be at your own risk, as the final version could be different.\n"
     ]
    }
   ],
   "source": [
    "query = {\n",
    "    \"size\": 5,\n",
    "    \"query\": {\n",
    "        \"bool\": {\n",
    "            \"must\": {\n",
    "                \"multi_match\": {\n",
    "                    \"query\": \"When is the next cohort?\",\n",
    "                    \"fields\": [\"question^3\", \"text\", \"section\"],\n",
    "                    \"type\": \"best_fields\"\n",
    "                }\n",
    "            },\n",
    "            \"filter\": {\n",
    "                \"term\": {\n",
    "                    \"course\": \"llm-zoomcamp\"\n",
    "                }\n",
    "            }\n",
    "        }\n",
    "    },\n",
    "    \"_source\": [\"text\", \"_id\"]  # Include \"_id\" in the source fields\n",
    "}\n",
    "\n",
    "response = es_client.search(index=\"documents_20240821_2300\", body=query)\n",
    "\n",
    "print(response)\n",
    "\n",
    "# Display results and the ID of the top matching result\n",
    "for hit in response['hits']['hits']:\n",
    "    print(f\"ID: {hit['_id']}, Text: {hit['_source']['text']}\")"
   ]
  },
  {
   "cell_type": "code",
   "execution_count": 31,
   "id": "2a11d9d3-1a2d-4ba7-a289-430b2eea4793",
   "metadata": {},
   "outputs": [
    {
     "name": "stdout",
     "output_type": "stream",
     "text": [
      "Top Matching Result ID: _UWHcpEBYxc-ogipsmHQ\n"
     ]
    }
   ],
   "source": [
    "top_hit_id = response['hits']['hits'][0]['_id']\n",
    "print(f\"Top Matching Result ID: {top_hit_id}\")"
   ]
  },
  {
   "cell_type": "markdown",
   "id": "b73fc6c9-6d51-41fe-b825-db90661a691a",
   "metadata": {},
   "source": [
    "## Q6. Reindexing\n",
    "\n",
    "Our FAQ document changes: every day course participants add\n",
    "new records or improve existing ones.\n",
    "\n",
    "Imagine some time passed and the document changed. For that we have another version of the FAQ document: [version 2](https://docs.google.com/document/d/1T3MdwUvqCL3jrh3d3VCXQ8xE0UqRzI3bfgpfBq3ZWG0/edit).\n",
    "\n",
    "The ID of this document is `1T3MdwUvqCL3jrh3d3VCXQ8xE0UqRzI3bfgpfBq3ZWG0`.\n",
    "\n",
    "Let's re-execute the entire pipeline with the updated data.\n",
    "\n",
    "For the same query \"When is the next cohort?\". What's the ID of the top matching result?"
   ]
  },
  {
   "cell_type": "code",
   "execution_count": null,
   "id": "f6df5559-7563-444c-93ba-ce9fc4eb5e9b",
   "metadata": {},
   "outputs": [],
   "source": []
  },
  {
   "cell_type": "code",
   "execution_count": null,
   "id": "64b5dcf5-7a61-4f09-9928-f71045b5157c",
   "metadata": {},
   "outputs": [],
   "source": []
  },
  {
   "cell_type": "code",
   "execution_count": null,
   "id": "1c4b4f70-ea73-4a3b-8fb5-74d1349c71cb",
   "metadata": {},
   "outputs": [],
   "source": []
  },
  {
   "cell_type": "code",
   "execution_count": null,
   "id": "744d6789-038f-4823-aea2-562707408cd4",
   "metadata": {},
   "outputs": [],
   "source": []
  },
  {
   "cell_type": "code",
   "execution_count": null,
   "id": "0fb35e29-7033-4743-b2ce-bf6318c951bc",
   "metadata": {},
   "outputs": [],
   "source": []
  }
 ],
 "metadata": {
  "kernelspec": {
   "display_name": "Python 3 (ipykernel)",
   "language": "python",
   "name": "python3"
  },
  "language_info": {
   "codemirror_mode": {
    "name": "ipython",
    "version": 3
   },
   "file_extension": ".py",
   "mimetype": "text/x-python",
   "name": "python",
   "nbconvert_exporter": "python",
   "pygments_lexer": "ipython3",
   "version": "3.10.13"
  }
 },
 "nbformat": 4,
 "nbformat_minor": 5
}
